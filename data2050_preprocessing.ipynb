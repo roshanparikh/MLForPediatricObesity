{
 "cells": [
  {
   "cell_type": "markdown",
   "metadata": {},
   "source": [
    "**DATA 2050 PREPROCESSING**\n",
    "--"
   ]
  },
  {
   "cell_type": "code",
   "execution_count": 1,
   "metadata": {},
   "outputs": [],
   "source": [
    "import pandas as pd\n",
    "import numpy as np\n",
    "from sklearn.model_selection import train_test_split \n",
    "import matplotlib.pyplot as plt\n",
    "import math\n",
    "from sklearn.compose import ColumnTransformer\n",
    "from sklearn.pipeline import Pipeline\n",
    "from sklearn.preprocessing import StandardScaler, OneHotEncoder, OrdinalEncoder, MinMaxScaler\n",
    "from sklearn.model_selection import train_test_split\n",
    "from sklearn.model_selection import KFold\n",
    "import xgboost as xgb\n",
    "import pickle\n",
    "from sklearn.inspection import permutation_importance"
   ]
  },
  {
   "cell_type": "markdown",
   "metadata": {},
   "source": [
    "**CREATING IMPUTED DFs FOR R**\n",
    "--"
   ]
  },
  {
   "cell_type": "code",
   "execution_count": 15,
   "metadata": {},
   "outputs": [
    {
     "name": "stderr",
     "output_type": "stream",
     "text": [
      "/var/folders/sd/_g49jm097m1ccf0r7dhzypt00000gn/T/ipykernel_56251/864173969.py:8: FutureWarning: Downcasting behavior in `replace` is deprecated and will be removed in a future version. To retain the old behavior, explicitly call `result.infer_objects(copy=False)`. To opt-in to the future behavior, set `pd.set_option('future.no_silent_downcasting', True)`\n",
      "  df_cleaned['gest_age'] = df_cleaned['gest_age'].replace('FT', 40.0)\n"
     ]
    }
   ],
   "source": [
    "data = pd.read_excel('../2050_Data_4-26.xlsx', sheet_name='Data Table')\n",
    "\n",
    "df = data.copy()\n",
    "\n",
    "df_cleaned = data.copy().dropna(subset=['birth_wt_pct']).reset_index(drop=True)\n",
    "\n",
    "# Change FT to 40.0 in gest_age\n",
    "df_cleaned['gest_age'] = df_cleaned['gest_age'].replace('FT', 40.0)\n",
    "df_cleaned = df_cleaned[df_cleaned['6mo_feeding_type'] != 'Both Breast and Formula'].reset_index(drop=True)\n",
    "\n",
    "# Adding new columns to df_cleaned\n",
    "\n",
    "df_cleaned['birth-1yr_wt_diff'] = df_cleaned.apply(lambda row: row['1yr_wt_pct'] - row['birth_wt_pct'] if pd.notna(row['1yr_wt_pct']) and pd.notna(row['3yr_wt_pct']) else None, axis=1)\n",
    "df_cleaned['1yr-3yr_wt_diff'] = df_cleaned.apply(lambda row: row['3yr_wt_pct'] - row['1yr_wt_pct'] if pd.notna(row['1yr_wt_pct']) and pd.notna(row['3yr_wt_pct']) else None, axis=1)"
   ]
  },
  {
   "cell_type": "code",
   "execution_count": 16,
   "metadata": {},
   "outputs": [],
   "source": [
    "y = df_cleaned['birth_wt_pct']\n",
    "X = df_cleaned[['race', 'sex', 'gest_age', 'insurance_type', \\\n",
    "                 '4mo_feeding_type', '6mo_feeding_type', '1yr_wt_pct', '3yr_wt_pct', '3yr_bmi_pct', 'age_on_obes', 'birth-1yr_wt_diff', '1yr-3yr_wt_diff']]"
   ]
  },
  {
   "cell_type": "markdown",
   "metadata": {},
   "source": [
    "**SAVING DATA WITHOUT ENCODING**"
   ]
  },
  {
   "cell_type": "code",
   "execution_count": 17,
   "metadata": {},
   "outputs": [],
   "source": [
    "df_linreg_not_scaled_with_miss = X.copy()\n",
    "df_linreg_not_scaled_with_miss['target'] = y\n",
    "df_linreg_not_scaled_with_miss.to_csv('df_regression_not_scaled_with_miss.csv', index=False)"
   ]
  },
  {
   "cell_type": "code",
   "execution_count": 18,
   "metadata": {},
   "outputs": [
    {
     "data": {
      "text/plain": [
       "Index(['race', 'sex', 'gest_age', 'insurance_type', '4mo_feeding_type',\n",
       "       '6mo_feeding_type', '1yr_wt_pct', '3yr_wt_pct', '3yr_bmi_pct',\n",
       "       'age_on_obes', 'birth-1yr_wt_diff', '1yr-3yr_wt_diff'],\n",
       "      dtype='object')"
      ]
     },
     "execution_count": 18,
     "metadata": {},
     "output_type": "execute_result"
    }
   ],
   "source": [
    "X.columns"
   ]
  },
  {
   "cell_type": "markdown",
   "metadata": {},
   "source": [
    "**REMOVING CATEGORICAL MISSING VALUES**"
   ]
  },
  {
   "cell_type": "code",
   "execution_count": 19,
   "metadata": {},
   "outputs": [
    {
     "name": "stdout",
     "output_type": "stream",
     "text": [
      "(62, 24)\n"
     ]
    }
   ],
   "source": [
    "from sklearn.impute import SimpleImputer\n",
    "\n",
    "std_ftrs = ['gest_age', '1yr_wt_pct', '3yr_wt_pct', '3yr_bmi_pct', 'age_on_obes', 'birth-1yr_wt_diff', '1yr-3yr_wt_diff']\n",
    "onehot_ftrs = ['race', 'sex', 'insurance_type', '4mo_feeding_type', '6mo_feeding_type']\n",
    "\n",
    "one_hot_transformer = Pipeline(steps=[\n",
    "    ('imputer', SimpleImputer(strategy='constant',fill_value='missing')),\n",
    "    ('onehot', OneHotEncoder(sparse_output=False,handle_unknown='ignore'))])\n",
    "\n",
    "# Standard scaler \n",
    "std_transformer = Pipeline(steps=[\n",
    "    ('scaler', StandardScaler())])\n",
    "\n",
    "# Collect the transformers\n",
    "preprocessor = ColumnTransformer(\n",
    "    transformers=[\n",
    "        ('std', std_transformer, std_ftrs),\n",
    "        ('ohot', one_hot_transformer, onehot_ftrs)])\n",
    "\n",
    "final_scaler = StandardScaler()\n",
    "\n",
    "clf = Pipeline(steps=[('preprocessor', preprocessor),\n",
    "                      ('final scaler', final_scaler)])\n",
    "\n",
    "\n",
    "# fit_transform the training set\n",
    "X_prep = clf.fit_transform(X)\n",
    "feature_names = clf.get_feature_names_out()\n",
    "\n",
    "df_linreg = pd.DataFrame(data=X_prep,columns=feature_names)\n",
    "print(df_linreg.shape)\n",
    "\n"
   ]
  },
  {
   "cell_type": "code",
   "execution_count": 20,
   "metadata": {},
   "outputs": [],
   "source": [
    "df_linreg['target'] = y\n",
    "df_linreg.to_csv('df_regression_not_imp.csv', index=False)"
   ]
  },
  {
   "cell_type": "code",
   "execution_count": 21,
   "metadata": {},
   "outputs": [
    {
     "name": "stdout",
     "output_type": "stream",
     "text": [
      "   std__gest_age  std__1yr_wt_pct  std__3yr_wt_pct  std__3yr_bmi_pct  \\\n",
      "0       0.085150         0.996720         0.529706          0.547621   \n",
      "1       0.543552        -1.650156         0.066377         -0.626290   \n",
      "2       0.543552         0.573355              NaN               NaN   \n",
      "3      -2.588867         0.178779        -0.712312          0.080332   \n",
      "4       0.619953              NaN              NaN               NaN   \n",
      "\n",
      "   std__age_on_obes  \n",
      "0         -0.671198  \n",
      "1          1.796996  \n",
      "2          1.021278  \n",
      "3          1.373877  \n",
      "4          1.902776  \n",
      "   std__gest_age  std__1yr_wt_pct  std__3yr_wt_pct  std__3yr_bmi_pct  \\\n",
      "0       0.085150         0.996720         0.529706          0.547621   \n",
      "1       0.543552        -1.650156         0.066377         -0.626290   \n",
      "2       0.543552         0.573355        -1.448439         -1.491782   \n",
      "3      -2.588867         0.178779        -0.712312          0.080332   \n",
      "4       0.619953        -1.340704        -1.087774         -2.078606   \n",
      "\n",
      "   std__age_on_obes  \n",
      "0         -0.671198  \n",
      "1          1.796996  \n",
      "2          1.021278  \n",
      "3          1.373877  \n",
      "4          1.902776  \n"
     ]
    },
    {
     "name": "stderr",
     "output_type": "stream",
     "text": [
      "/opt/miniconda3/envs/data1030/lib/python3.12/site-packages/sklearn/impute/_iterative.py:825: ConvergenceWarning: [IterativeImputer] Early stopping criterion not reached.\n",
      "  warnings.warn(\n"
     ]
    }
   ],
   "source": [
    "# Iterative imputing the standard features\n",
    "from sklearn.experimental import enable_iterative_imputer\n",
    "from sklearn.impute import IterativeImputer\n",
    "from sklearn.ensemble import RandomForestRegressor\n",
    "from sklearn.linear_model import LinearRegression\n",
    "\n",
    "mask = ['std__gest_age', 'std__1yr_wt_pct', 'std__3yr_wt_pct', 'std__3yr_bmi_pct', 'std__age_on_obes']\n",
    "\n",
    "print(df_linreg[mask].head())\n",
    "\n",
    "imputer = IterativeImputer(estimator = RandomForestRegressor(n_estimators=10), random_state=42)\n",
    "X_impute = imputer.fit_transform(df_linreg)\n",
    "df_linreg_imp = pd.DataFrame(data=X_impute, columns = df_linreg.columns)\n",
    "\n",
    "print(df_linreg_imp[mask].head())"
   ]
  },
  {
   "cell_type": "code",
   "execution_count": 22,
   "metadata": {},
   "outputs": [],
   "source": [
    "df_linreg_imp['target'] = y\n",
    "df_linreg_imp.to_csv('df_regression_imp.csv', index=False)"
   ]
  },
  {
   "cell_type": "markdown",
   "metadata": {},
   "source": [
    "**NOT SCALED DF**"
   ]
  },
  {
   "cell_type": "code",
   "execution_count": 23,
   "metadata": {},
   "outputs": [
    {
     "name": "stderr",
     "output_type": "stream",
     "text": [
      "/var/folders/sd/_g49jm097m1ccf0r7dhzypt00000gn/T/ipykernel_56251/383388823.py:8: FutureWarning: Downcasting behavior in `replace` is deprecated and will be removed in a future version. To retain the old behavior, explicitly call `result.infer_objects(copy=False)`. To opt-in to the future behavior, set `pd.set_option('future.no_silent_downcasting', True)`\n",
      "  df_cleaned['gest_age'] = df_cleaned['gest_age'].replace('FT', 40.0)\n"
     ]
    }
   ],
   "source": [
    "data = pd.read_excel('../2050_Data_4-26.xlsx', sheet_name='Data Table')\n",
    "\n",
    "df = data.copy()\n",
    "\n",
    "df_cleaned = data.copy().dropna(subset=['birth_wt_pct']).reset_index(drop=True)\n",
    "\n",
    "# Change FT to 40.0 in gest_age\n",
    "df_cleaned['gest_age'] = df_cleaned['gest_age'].replace('FT', 40.0)\n",
    "\n",
    "df_cleaned = df_cleaned[df_cleaned['6mo_feeding_type'] != 'Both Breast and Formula'].reset_index(drop=True)\n",
    "\n",
    "# Adding new columns to df_cleaned\n",
    "\n",
    "df_cleaned['birth-1yr_wt_diff'] = df_cleaned.apply(lambda row: row['1yr_wt_pct'] - row['birth_wt_pct'] if pd.notna(row['1yr_wt_pct']) and pd.notna(row['3yr_wt_pct']) else None, axis=1)\n",
    "df_cleaned['1yr-3yr_wt_diff'] = df_cleaned.apply(lambda row: row['3yr_wt_pct'] - row['1yr_wt_pct'] if pd.notna(row['1yr_wt_pct']) and pd.notna(row['3yr_wt_pct']) else None, axis=1)"
   ]
  },
  {
   "cell_type": "code",
   "execution_count": 24,
   "metadata": {},
   "outputs": [],
   "source": [
    "y = df_cleaned['birth_wt_pct']\n",
    "X = df_cleaned[['race', 'sex', 'gest_age', 'insurance_type', '6mo_feeding_type', \\\n",
    "                 '4mo_feeding_type', '1yr_wt_pct', '3yr_wt_pct', '3yr_bmi_pct', 'age_on_obes', 'birth-1yr_wt_diff', '1yr-3yr_wt_diff']]"
   ]
  },
  {
   "cell_type": "code",
   "execution_count": 25,
   "metadata": {},
   "outputs": [
    {
     "name": "stdout",
     "output_type": "stream",
     "text": [
      "(62, 24)\n"
     ]
    }
   ],
   "source": [
    "from sklearn.impute import SimpleImputer\n",
    "from sklearn.preprocessing import FunctionTransformer\n",
    "\n",
    "std_ftrs = ['gest_age', '1yr_wt_pct', '3yr_wt_pct', '3yr_bmi_pct', 'age_on_obes', 'birth-1yr_wt_diff', '1yr-3yr_wt_diff']\n",
    "onehot_ftrs = ['race', 'sex', 'insurance_type', '6mo_feeding_type', '4mo_feeding_type']\n",
    "\n",
    "one_hot_transformer = Pipeline(steps=[\n",
    "    ('imputer', SimpleImputer(strategy='constant',fill_value='missing')),\n",
    "    ('onehot', OneHotEncoder(sparse_output=False,handle_unknown='ignore'))])\n",
    "\n",
    "# Collect the transformers\n",
    "preprocessor = ColumnTransformer(\n",
    "    transformers=[\n",
    "        ('ohot', one_hot_transformer, onehot_ftrs),\n",
    "        ('std', FunctionTransformer(lambda x: x, validate=False),std_ftrs)\n",
    "    ])\n",
    "\n",
    "clf = Pipeline(steps=[('preprocessor', preprocessor)])\n",
    "\n",
    "# fit_transform the training set\n",
    "X_prep = clf.fit_transform(X)\n",
    "one_hot_feature_names = clf.named_steps['preprocessor'].transformers_[0][1].named_steps['onehot'].get_feature_names_out(onehot_ftrs)\n",
    "feature_names = list(std_ftrs) + list(one_hot_feature_names)\n",
    "\n",
    "df_linreg = pd.DataFrame(data=X_prep,columns=feature_names)\n",
    "print(df_linreg.shape)"
   ]
  },
  {
   "cell_type": "code",
   "execution_count": 26,
   "metadata": {},
   "outputs": [
    {
     "name": "stdout",
     "output_type": "stream",
     "text": [
      "   gest_age  1yr_wt_pct  3yr_wt_pct  3yr_bmi_pct  age_on_obes  \\\n",
      "0       1.0         0.0         0.0          0.0          0.0   \n",
      "1       0.0         1.0         0.0          0.0          0.0   \n",
      "2       0.0         0.0         0.0          1.0          0.0   \n",
      "3       1.0         0.0         0.0          0.0          0.0   \n",
      "4       0.0         1.0         0.0          0.0          0.0   \n",
      "\n",
      "   birth-1yr_wt_diff  1yr-3yr_wt_diff  \n",
      "0                1.0              0.0  \n",
      "1                1.0              0.0  \n",
      "2                0.0              1.0  \n",
      "3                1.0              0.0  \n",
      "4                0.0              1.0  \n",
      "   gest_age  1yr_wt_pct  3yr_wt_pct  3yr_bmi_pct  age_on_obes  \\\n",
      "0       1.0         0.0         0.0          0.0          0.0   \n",
      "1       0.0         1.0         0.0          0.0          0.0   \n",
      "2       0.0         0.0         0.0          1.0          0.0   \n",
      "3       1.0         0.0         0.0          0.0          0.0   \n",
      "4       0.0         1.0         0.0          0.0          0.0   \n",
      "\n",
      "   birth-1yr_wt_diff  1yr-3yr_wt_diff  \n",
      "0                1.0              0.0  \n",
      "1                1.0              0.0  \n",
      "2                0.0              1.0  \n",
      "3                1.0              0.0  \n",
      "4                0.0              1.0  \n"
     ]
    },
    {
     "name": "stderr",
     "output_type": "stream",
     "text": [
      "/opt/miniconda3/envs/data1030/lib/python3.12/site-packages/sklearn/impute/_iterative.py:825: ConvergenceWarning: [IterativeImputer] Early stopping criterion not reached.\n",
      "  warnings.warn(\n"
     ]
    }
   ],
   "source": [
    "# Iterative imputing the standard features\n",
    "from sklearn.experimental import enable_iterative_imputer\n",
    "from sklearn.impute import IterativeImputer\n",
    "from sklearn.ensemble import RandomForestRegressor\n",
    "from sklearn.linear_model import LinearRegression\n",
    "\n",
    "mask = std_ftrs\n",
    "\n",
    "print(df_linreg[mask].head())\n",
    "\n",
    "imputer = IterativeImputer(estimator = RandomForestRegressor(n_estimators=1), random_state=42)\n",
    "X_impute = imputer.fit_transform(df_linreg)\n",
    "df_linreg_imp_notscaled = pd.DataFrame(data=X_impute, columns = df_linreg.columns)\n",
    "\n",
    "print(df_linreg_imp_notscaled[mask].head())"
   ]
  },
  {
   "cell_type": "code",
   "execution_count": 27,
   "metadata": {},
   "outputs": [],
   "source": [
    "df_linreg_imp_notscaled['target'] = y\n",
    "df_linreg_imp_notscaled.to_csv('df_linreg_imp_notscaled.csv', index=False)"
   ]
  },
  {
   "cell_type": "code",
   "execution_count": null,
   "metadata": {},
   "outputs": [],
   "source": []
  }
 ],
 "metadata": {
  "kernelspec": {
   "display_name": "data1030",
   "language": "python",
   "name": "python3"
  },
  "language_info": {
   "codemirror_mode": {
    "name": "ipython",
    "version": 3
   },
   "file_extension": ".py",
   "mimetype": "text/x-python",
   "name": "python",
   "nbconvert_exporter": "python",
   "pygments_lexer": "ipython3",
   "version": "3.12.5"
  }
 },
 "nbformat": 4,
 "nbformat_minor": 2
}
